{
 "cells": [
  {
   "cell_type": "code",
   "execution_count": 34,
   "metadata": {},
   "outputs": [],
   "source": [
    "    %matplotlib inline\n",
    "import pandas as pd\n",
    "import numpy as np\n",
    "import time \n",
    "import re\n",
    "import matplotlib.pyplot as plt\n",
    "plt.style.use('seaborn-whitegrid')\n",
    "from datetime import datetime\n",
    "from matplotlib.ticker import StrMethodFormatter\n",
    "import seaborn as sns\n",
    "sns.set(color_codes=True)"
   ]
  },
  {
   "cell_type": "markdown",
   "metadata": {},
   "source": [
    "## Data Cleaning"
   ]
  },
  {
   "cell_type": "code",
   "execution_count": 2,
   "metadata": {},
   "outputs": [
    {
     "data": {
      "text/html": [
       "<div>\n",
       "<style scoped>\n",
       "    .dataframe tbody tr th:only-of-type {\n",
       "        vertical-align: middle;\n",
       "    }\n",
       "\n",
       "    .dataframe tbody tr th {\n",
       "        vertical-align: top;\n",
       "    }\n",
       "\n",
       "    .dataframe thead th {\n",
       "        text-align: right;\n",
       "    }\n",
       "</style>\n",
       "<table border=\"1\" class=\"dataframe\">\n",
       "  <thead>\n",
       "    <tr style=\"text-align: right;\">\n",
       "      <th></th>\n",
       "      <th>Event Name</th>\n",
       "      <th>Time MSec</th>\n",
       "      <th>Process Name</th>\n",
       "      <th>criteria</th>\n",
       "      <th>DURATION_MSEC</th>\n",
       "      <th>metrics</th>\n",
       "      <th>timestamp</th>\n",
       "      <th>usn</th>\n",
       "      <th>viewName</th>\n",
       "      <th>ActivityID</th>\n",
       "    </tr>\n",
       "  </thead>\n",
       "  <tbody>\n",
       "    <tr>\n",
       "      <th>0</th>\n",
       "      <td>UIServerEventSource/LoadDataStart/Start</td>\n",
       "      <td>2518.457</td>\n",
       "      <td>Process(2920) (2920)</td>\n",
       "      <td>Key_backup_policy_tag_73391121-b001-4a9a-b2b2-...</td>\n",
       "      <td>NaN</td>\n",
       "      <td>Table_1:47 Table_2:476 Table_3:199 Table_4:56</td>\n",
       "      <td>11/15/2019 9:51</td>\n",
       "      <td>0</td>\n",
       "      <td>Procedure_0</td>\n",
       "      <td>NaN</td>\n",
       "    </tr>\n",
       "    <tr>\n",
       "      <th>1</th>\n",
       "      <td>UIServerEventSource/LoadDataStop/Stop</td>\n",
       "      <td>2621.028</td>\n",
       "      <td>Process(2920) (2920)</td>\n",
       "      <td>Key_backup_policy_tag_73391121-b001-4a9a-b2b2-...</td>\n",
       "      <td>102.572</td>\n",
       "      <td>Table_1:47 Table_2:476 Table_3:199 Table_4:56</td>\n",
       "      <td>11/15/2019 9:51</td>\n",
       "      <td>0</td>\n",
       "      <td>Procedure_0</td>\n",
       "      <td>NaN</td>\n",
       "    </tr>\n",
       "    <tr>\n",
       "      <th>2</th>\n",
       "      <td>UIServerEventSource/LoadDataStart/Start</td>\n",
       "      <td>2621.106</td>\n",
       "      <td>Process(2920) (2920)</td>\n",
       "      <td>Key_@row_session_id_00000000-0000-0000-0000-00...</td>\n",
       "      <td>NaN</td>\n",
       "      <td>Table_1:47 Table_2:476 Table_3:199 Table_4:56</td>\n",
       "      <td>11/15/2019 9:51</td>\n",
       "      <td>0</td>\n",
       "      <td>Procedure_1</td>\n",
       "      <td>NaN</td>\n",
       "    </tr>\n",
       "    <tr>\n",
       "      <th>3</th>\n",
       "      <td>UIServerEventSource/LoadDataStop/Stop</td>\n",
       "      <td>2700.351</td>\n",
       "      <td>Process(2920) (2920)</td>\n",
       "      <td>Key_@row_session_id_00000000-0000-0000-0000-00...</td>\n",
       "      <td>79.245</td>\n",
       "      <td>Table_1:47 Table_2:476 Table_3:199 Table_4:56</td>\n",
       "      <td>11/15/2019 9:51</td>\n",
       "      <td>0</td>\n",
       "      <td>Procedure_1</td>\n",
       "      <td>NaN</td>\n",
       "    </tr>\n",
       "    <tr>\n",
       "      <th>4</th>\n",
       "      <td>UIServerEventSource/LoadDataStart/Start</td>\n",
       "      <td>2700.375</td>\n",
       "      <td>Process(2920) (2920)</td>\n",
       "      <td>Key</td>\n",
       "      <td>NaN</td>\n",
       "      <td>Table_1:47 Table_2:476 Table_3:199 Table_4:56</td>\n",
       "      <td>11/15/2019 9:51</td>\n",
       "      <td>0</td>\n",
       "      <td>Procedure_2</td>\n",
       "      <td>NaN</td>\n",
       "    </tr>\n",
       "  </tbody>\n",
       "</table>\n",
       "</div>"
      ],
      "text/plain": [
       "                                Event Name  Time MSec          Process Name  \\\n",
       "0  UIServerEventSource/LoadDataStart/Start   2518.457  Process(2920) (2920)   \n",
       "1    UIServerEventSource/LoadDataStop/Stop   2621.028  Process(2920) (2920)   \n",
       "2  UIServerEventSource/LoadDataStart/Start   2621.106  Process(2920) (2920)   \n",
       "3    UIServerEventSource/LoadDataStop/Stop   2700.351  Process(2920) (2920)   \n",
       "4  UIServerEventSource/LoadDataStart/Start   2700.375  Process(2920) (2920)   \n",
       "\n",
       "                                            criteria DURATION_MSEC  \\\n",
       "0  Key_backup_policy_tag_73391121-b001-4a9a-b2b2-...           NaN   \n",
       "1  Key_backup_policy_tag_73391121-b001-4a9a-b2b2-...       102.572   \n",
       "2  Key_@row_session_id_00000000-0000-0000-0000-00...           NaN   \n",
       "3  Key_@row_session_id_00000000-0000-0000-0000-00...        79.245   \n",
       "4                                                Key           NaN   \n",
       "\n",
       "                                         metrics        timestamp usn  \\\n",
       "0  Table_1:47 Table_2:476 Table_3:199 Table_4:56  11/15/2019 9:51   0   \n",
       "1  Table_1:47 Table_2:476 Table_3:199 Table_4:56  11/15/2019 9:51   0   \n",
       "2  Table_1:47 Table_2:476 Table_3:199 Table_4:56  11/15/2019 9:51   0   \n",
       "3  Table_1:47 Table_2:476 Table_3:199 Table_4:56  11/15/2019 9:51   0   \n",
       "4  Table_1:47 Table_2:476 Table_3:199 Table_4:56  11/15/2019 9:51   0   \n",
       "\n",
       "      viewName  ActivityID  \n",
       "0  Procedure_0         NaN  \n",
       "1  Procedure_0         NaN  \n",
       "2  Procedure_1         NaN  \n",
       "3  Procedure_1         NaN  \n",
       "4  Procedure_2         NaN  "
      ]
     },
     "execution_count": 2,
     "metadata": {},
     "output_type": "execute_result"
    }
   ],
   "source": [
    "rawData = pd.read_csv('data/SqlMetric_prepared.csv')\n",
    "rawData.head()"
   ]
  },
  {
   "cell_type": "code",
   "execution_count": 3,
   "metadata": {},
   "outputs": [],
   "source": [
    "rawData.drop(['ActivityID', 'Event Name', 'criteria', 'Process Name'], axis=1, inplace=True)"
   ]
  },
  {
   "cell_type": "code",
   "execution_count": 4,
   "metadata": {},
   "outputs": [
    {
     "data": {
      "text/plain": [
       "Time MSec             0\n",
       "DURATION_MSEC    173975\n",
       "metrics               0\n",
       "timestamp             0\n",
       "usn                   0\n",
       "viewName              0\n",
       "dtype: int64"
      ]
     },
     "execution_count": 4,
     "metadata": {},
     "output_type": "execute_result"
    }
   ],
   "source": [
    "rawData.isnull().sum()"
   ]
  },
  {
   "cell_type": "code",
   "execution_count": 5,
   "metadata": {},
   "outputs": [
    {
     "name": "stdout",
     "output_type": "stream",
     "text": [
      "Time MSec        0\n",
      "DURATION_MSEC    0\n",
      "metrics          0\n",
      "timestamp        0\n",
      "usn              0\n",
      "viewName         0\n",
      "dtype: int64\n",
      "Dataset shape: (173974, 6)\n"
     ]
    }
   ],
   "source": [
    "rawData.dropna(inplace=True)\n",
    "print(rawData.isnull().sum())\n",
    "print('Dataset shape: {}'.format(rawData.shape))"
   ]
  },
  {
   "cell_type": "code",
   "execution_count": 6,
   "metadata": {},
   "outputs": [
    {
     "data": {
      "text/html": [
       "<div>\n",
       "<style scoped>\n",
       "    .dataframe tbody tr th:only-of-type {\n",
       "        vertical-align: middle;\n",
       "    }\n",
       "\n",
       "    .dataframe tbody tr th {\n",
       "        vertical-align: top;\n",
       "    }\n",
       "\n",
       "    .dataframe thead th {\n",
       "        text-align: right;\n",
       "    }\n",
       "</style>\n",
       "<table border=\"1\" class=\"dataframe\">\n",
       "  <thead>\n",
       "    <tr style=\"text-align: right;\">\n",
       "      <th></th>\n",
       "      <th>Time MSec</th>\n",
       "      <th>DURATION_MSEC</th>\n",
       "      <th>metrics</th>\n",
       "      <th>timestamp</th>\n",
       "      <th>usn</th>\n",
       "      <th>viewName</th>\n",
       "    </tr>\n",
       "  </thead>\n",
       "  <tbody>\n",
       "    <tr>\n",
       "      <th>1</th>\n",
       "      <td>2621.028</td>\n",
       "      <td>102.572</td>\n",
       "      <td>Table_1:47 Table_2:476 Table_3:199 Table_4:56</td>\n",
       "      <td>11/15/2019 9:51</td>\n",
       "      <td>0</td>\n",
       "      <td>Procedure_0</td>\n",
       "    </tr>\n",
       "    <tr>\n",
       "      <th>3</th>\n",
       "      <td>2700.351</td>\n",
       "      <td>79.245</td>\n",
       "      <td>Table_1:47 Table_2:476 Table_3:199 Table_4:56</td>\n",
       "      <td>11/15/2019 9:51</td>\n",
       "      <td>0</td>\n",
       "      <td>Procedure_1</td>\n",
       "    </tr>\n",
       "    <tr>\n",
       "      <th>5</th>\n",
       "      <td>2701.448</td>\n",
       "      <td>1.073</td>\n",
       "      <td>Table_1:47 Table_2:476 Table_3:199 Table_4:56</td>\n",
       "      <td>11/15/2019 9:51</td>\n",
       "      <td>0</td>\n",
       "      <td>Procedure_2</td>\n",
       "    </tr>\n",
       "    <tr>\n",
       "      <th>7</th>\n",
       "      <td>6288.764</td>\n",
       "      <td>3,587.28</td>\n",
       "      <td>Table_1:47 Table_2:476 Table_3:199 Table_4:56</td>\n",
       "      <td>11/15/2019 9:51</td>\n",
       "      <td>0</td>\n",
       "      <td>Procedure_3</td>\n",
       "    </tr>\n",
       "    <tr>\n",
       "      <th>9</th>\n",
       "      <td>6386.315</td>\n",
       "      <td>97.403</td>\n",
       "      <td>Table_1:47 Table_2:476 Table_3:199 Table_4:56</td>\n",
       "      <td>11/15/2019 9:51</td>\n",
       "      <td>76,986</td>\n",
       "      <td>Procedure_4</td>\n",
       "    </tr>\n",
       "  </tbody>\n",
       "</table>\n",
       "</div>"
      ],
      "text/plain": [
       "   Time MSec DURATION_MSEC                                        metrics  \\\n",
       "1   2621.028       102.572  Table_1:47 Table_2:476 Table_3:199 Table_4:56   \n",
       "3   2700.351        79.245  Table_1:47 Table_2:476 Table_3:199 Table_4:56   \n",
       "5   2701.448         1.073  Table_1:47 Table_2:476 Table_3:199 Table_4:56   \n",
       "7   6288.764      3,587.28  Table_1:47 Table_2:476 Table_3:199 Table_4:56   \n",
       "9   6386.315        97.403  Table_1:47 Table_2:476 Table_3:199 Table_4:56   \n",
       "\n",
       "         timestamp     usn     viewName  \n",
       "1  11/15/2019 9:51       0  Procedure_0  \n",
       "3  11/15/2019 9:51       0  Procedure_1  \n",
       "5  11/15/2019 9:51       0  Procedure_2  \n",
       "7  11/15/2019 9:51       0  Procedure_3  \n",
       "9  11/15/2019 9:51  76,986  Procedure_4  "
      ]
     },
     "execution_count": 6,
     "metadata": {},
     "output_type": "execute_result"
    }
   ],
   "source": [
    "rawData.head()"
   ]
  },
  {
   "cell_type": "code",
   "execution_count": 7,
   "metadata": {},
   "outputs": [
    {
     "name": "stdout",
     "output_type": "stream",
     "text": [
      "Dataset shape: (173974, 6)\n",
      "Metrics: ['Table_1:47', 'Table_2:476', 'Table_3:199', 'Table_4:56']\n",
      "Parsing sql metrics\n",
      "Adding new metrics collumns\n",
      "Drop db_state column\n",
      "Parsing sql metrics finnised\n",
      "Dataset shape: (173974, 9)\n"
     ]
    }
   ],
   "source": [
    "rawData['db_state'] = rawData['metrics'].apply(lambda x: x.split(' '))\n",
    "rawData.drop(['metrics'], axis=1, inplace=True)\n",
    "print('Dataset shape: {}'.format(rawData.shape))\n",
    "row = rawData.iloc[0,5]\n",
    "print('Metrics: {}'.format(row))\n",
    "\n",
    "dic = {}\n",
    "\n",
    "for st in row:\n",
    "    splitted = st.split(':')\n",
    "    key = splitted[0] \n",
    "    dic[key] = [] \n",
    "    \n",
    "print('Parsing sql metrics')\n",
    "for index, row in rawData.iterrows():\n",
    "    metrics_row = row['db_state']\n",
    "    for i in range(0,4):\n",
    "        st = metrics_row[i]\n",
    "        splitted = st.split(':')\n",
    "        key = 'Table_{}'.format(i+1)\n",
    "        val = np.NaN   \n",
    "        if len(splitted)>1:\n",
    "            val = int(splitted[1])\n",
    "        \n",
    "        dic[key].append(val)\n",
    "        \n",
    "\n",
    "print('Adding new metrics collumns')     \n",
    "for key in dic.keys():\n",
    "    rawData[key] = dic[key]\n",
    "\n",
    "print('Drop db_state column')\n",
    "rawData.drop(['db_state'], axis=1, inplace=True)\n",
    "    \n",
    "print('Parsing sql metrics finnised')\n",
    "print('Dataset shape: {}'.format(rawData.shape))"
   ]
  },
  {
   "cell_type": "code",
   "execution_count": 8,
   "metadata": {},
   "outputs": [
    {
     "name": "stdout",
     "output_type": "stream",
     "text": [
      "Time MSec           0\n",
      "DURATION_MSEC       0\n",
      "timestamp           0\n",
      "usn                 0\n",
      "viewName            0\n",
      "Table_1          4844\n",
      "Table_2          4844\n",
      "Table_3          4844\n",
      "Table_4          4844\n",
      "dtype: int64\n"
     ]
    }
   ],
   "source": [
    "print(rawData.isnull().sum())"
   ]
  },
  {
   "cell_type": "code",
   "execution_count": 9,
   "metadata": {},
   "outputs": [
    {
     "name": "stdout",
     "output_type": "stream",
     "text": [
      "Dataset shape: (169130, 9)\n"
     ]
    }
   ],
   "source": [
    "rawData.dropna(inplace=True)\n",
    "print('Dataset shape: {}'.format(rawData.shape))"
   ]
  },
  {
   "cell_type": "code",
   "execution_count": 10,
   "metadata": {},
   "outputs": [
    {
     "name": "stdout",
     "output_type": "stream",
     "text": [
      "timestamp        0\n",
      "duration         0\n",
      "viewName         0\n",
      "Table_1          0\n",
      "Table_2          0\n",
      "Table_3          0\n",
      "Table_4          0\n",
      "is_cold_start    0\n",
      "dtype: int64\n"
     ]
    },
    {
     "data": {
      "text/html": [
       "<div>\n",
       "<style scoped>\n",
       "    .dataframe tbody tr th:only-of-type {\n",
       "        vertical-align: middle;\n",
       "    }\n",
       "\n",
       "    .dataframe tbody tr th {\n",
       "        vertical-align: top;\n",
       "    }\n",
       "\n",
       "    .dataframe thead th {\n",
       "        text-align: right;\n",
       "    }\n",
       "</style>\n",
       "<table border=\"1\" class=\"dataframe\">\n",
       "  <thead>\n",
       "    <tr style=\"text-align: right;\">\n",
       "      <th></th>\n",
       "      <th>timestamp</th>\n",
       "      <th>duration</th>\n",
       "      <th>viewName</th>\n",
       "      <th>Table_1</th>\n",
       "      <th>Table_2</th>\n",
       "      <th>Table_3</th>\n",
       "      <th>Table_4</th>\n",
       "      <th>is_cold_start</th>\n",
       "    </tr>\n",
       "  </thead>\n",
       "  <tbody>\n",
       "    <tr>\n",
       "      <th>1</th>\n",
       "      <td>2621.028</td>\n",
       "      <td>102.572</td>\n",
       "      <td>Procedure_0</td>\n",
       "      <td>47.0</td>\n",
       "      <td>476.0</td>\n",
       "      <td>199.0</td>\n",
       "      <td>56.0</td>\n",
       "      <td>True</td>\n",
       "    </tr>\n",
       "    <tr>\n",
       "      <th>3</th>\n",
       "      <td>2700.351</td>\n",
       "      <td>79.245</td>\n",
       "      <td>Procedure_1</td>\n",
       "      <td>47.0</td>\n",
       "      <td>476.0</td>\n",
       "      <td>199.0</td>\n",
       "      <td>56.0</td>\n",
       "      <td>True</td>\n",
       "    </tr>\n",
       "    <tr>\n",
       "      <th>5</th>\n",
       "      <td>2701.448</td>\n",
       "      <td>1.073</td>\n",
       "      <td>Procedure_2</td>\n",
       "      <td>47.0</td>\n",
       "      <td>476.0</td>\n",
       "      <td>199.0</td>\n",
       "      <td>56.0</td>\n",
       "      <td>True</td>\n",
       "    </tr>\n",
       "    <tr>\n",
       "      <th>7</th>\n",
       "      <td>6288.764</td>\n",
       "      <td>3587.280</td>\n",
       "      <td>Procedure_3</td>\n",
       "      <td>47.0</td>\n",
       "      <td>476.0</td>\n",
       "      <td>199.0</td>\n",
       "      <td>56.0</td>\n",
       "      <td>True</td>\n",
       "    </tr>\n",
       "    <tr>\n",
       "      <th>9</th>\n",
       "      <td>6386.315</td>\n",
       "      <td>97.403</td>\n",
       "      <td>Procedure_4</td>\n",
       "      <td>47.0</td>\n",
       "      <td>476.0</td>\n",
       "      <td>199.0</td>\n",
       "      <td>56.0</td>\n",
       "      <td>False</td>\n",
       "    </tr>\n",
       "  </tbody>\n",
       "</table>\n",
       "</div>"
      ],
      "text/plain": [
       "   timestamp  duration     viewName  Table_1  Table_2  Table_3  Table_4  \\\n",
       "1   2621.028   102.572  Procedure_0     47.0    476.0    199.0     56.0   \n",
       "3   2700.351    79.245  Procedure_1     47.0    476.0    199.0     56.0   \n",
       "5   2701.448     1.073  Procedure_2     47.0    476.0    199.0     56.0   \n",
       "7   6288.764  3587.280  Procedure_3     47.0    476.0    199.0     56.0   \n",
       "9   6386.315    97.403  Procedure_4     47.0    476.0    199.0     56.0   \n",
       "\n",
       "   is_cold_start  \n",
       "1           True  \n",
       "3           True  \n",
       "5           True  \n",
       "7           True  \n",
       "9          False  "
      ]
     },
     "execution_count": 10,
     "metadata": {},
     "output_type": "execute_result"
    }
   ],
   "source": [
    "rawData = rawData.applymap(lambda x: x.replace(',','') if type(x) is str or type(x) is object else x)\n",
    "rawData['is_cold_start'] = rawData['usn'].apply(lambda x: True if int(x) == 0 else False)\n",
    "rawData.drop(['usn', 'timestamp'], axis=1, inplace=True)\n",
    "rawData.rename(columns={'Time MSec': 'timestamp', 'DURATION_MSEC': 'duration'}, inplace=True)\n",
    "rawData['duration'] = rawData['duration'].apply(lambda x: float(x))\n",
    "print(rawData.isnull().sum())\n",
    "rawData.head()"
   ]
  },
  {
   "cell_type": "code",
   "execution_count": 11,
   "metadata": {},
   "outputs": [
    {
     "data": {
      "text/plain": [
       "(169130, 8)"
      ]
     },
     "execution_count": 11,
     "metadata": {},
     "output_type": "execute_result"
    }
   ],
   "source": [
    "rawData.shape"
   ]
  },
  {
   "cell_type": "markdown",
   "metadata": {},
   "source": [
    "## Studing data"
   ]
  },
  {
   "cell_type": "code",
   "execution_count": 12,
   "metadata": {},
   "outputs": [],
   "source": [
    "data = rawData[rawData.is_cold_start == False]"
   ]
  },
  {
   "cell_type": "code",
   "execution_count": 13,
   "metadata": {},
   "outputs": [
    {
     "data": {
      "text/plain": [
       "(60061, 8)"
      ]
     },
     "execution_count": 13,
     "metadata": {},
     "output_type": "execute_result"
    }
   ],
   "source": [
    "data.shape"
   ]
  },
  {
   "cell_type": "code",
   "execution_count": 14,
   "metadata": {},
   "outputs": [
    {
     "data": {
      "text/html": [
       "<div>\n",
       "<style scoped>\n",
       "    .dataframe tbody tr th:only-of-type {\n",
       "        vertical-align: middle;\n",
       "    }\n",
       "\n",
       "    .dataframe tbody tr th {\n",
       "        vertical-align: top;\n",
       "    }\n",
       "\n",
       "    .dataframe thead th {\n",
       "        text-align: right;\n",
       "    }\n",
       "</style>\n",
       "<table border=\"1\" class=\"dataframe\">\n",
       "  <thead>\n",
       "    <tr style=\"text-align: right;\">\n",
       "      <th></th>\n",
       "      <th>timestamp</th>\n",
       "      <th>duration</th>\n",
       "      <th>Table_1</th>\n",
       "      <th>Table_2</th>\n",
       "      <th>Table_3</th>\n",
       "      <th>Table_4</th>\n",
       "    </tr>\n",
       "  </thead>\n",
       "  <tbody>\n",
       "    <tr>\n",
       "      <th>count</th>\n",
       "      <td>6.006100e+04</td>\n",
       "      <td>60061.000000</td>\n",
       "      <td>60061.0</td>\n",
       "      <td>60061.000000</td>\n",
       "      <td>60061.000000</td>\n",
       "      <td>60061.0</td>\n",
       "    </tr>\n",
       "    <tr>\n",
       "      <th>mean</th>\n",
       "      <td>7.478183e+07</td>\n",
       "      <td>394.140657</td>\n",
       "      <td>47.0</td>\n",
       "      <td>2574.834219</td>\n",
       "      <td>543.411981</td>\n",
       "      <td>56.0</td>\n",
       "    </tr>\n",
       "    <tr>\n",
       "      <th>std</th>\n",
       "      <td>4.109872e+07</td>\n",
       "      <td>2879.092823</td>\n",
       "      <td>0.0</td>\n",
       "      <td>942.281439</td>\n",
       "      <td>85.670459</td>\n",
       "      <td>0.0</td>\n",
       "    </tr>\n",
       "    <tr>\n",
       "      <th>min</th>\n",
       "      <td>6.386315e+03</td>\n",
       "      <td>0.561000</td>\n",
       "      <td>47.0</td>\n",
       "      <td>476.000000</td>\n",
       "      <td>196.000000</td>\n",
       "      <td>56.0</td>\n",
       "    </tr>\n",
       "    <tr>\n",
       "      <th>25%</th>\n",
       "      <td>4.054948e+07</td>\n",
       "      <td>95.470000</td>\n",
       "      <td>47.0</td>\n",
       "      <td>1912.000000</td>\n",
       "      <td>555.000000</td>\n",
       "      <td>56.0</td>\n",
       "    </tr>\n",
       "    <tr>\n",
       "      <th>50%</th>\n",
       "      <td>7.425822e+07</td>\n",
       "      <td>113.913000</td>\n",
       "      <td>47.0</td>\n",
       "      <td>2666.000000</td>\n",
       "      <td>559.000000</td>\n",
       "      <td>56.0</td>\n",
       "    </tr>\n",
       "    <tr>\n",
       "      <th>75%</th>\n",
       "      <td>1.101991e+08</td>\n",
       "      <td>189.388000</td>\n",
       "      <td>47.0</td>\n",
       "      <td>3362.000000</td>\n",
       "      <td>595.000000</td>\n",
       "      <td>56.0</td>\n",
       "    </tr>\n",
       "    <tr>\n",
       "      <th>max</th>\n",
       "      <td>1.461221e+08</td>\n",
       "      <td>163248.610000</td>\n",
       "      <td>47.0</td>\n",
       "      <td>4075.000000</td>\n",
       "      <td>596.000000</td>\n",
       "      <td>56.0</td>\n",
       "    </tr>\n",
       "  </tbody>\n",
       "</table>\n",
       "</div>"
      ],
      "text/plain": [
       "          timestamp       duration  Table_1       Table_2       Table_3  \\\n",
       "count  6.006100e+04   60061.000000  60061.0  60061.000000  60061.000000   \n",
       "mean   7.478183e+07     394.140657     47.0   2574.834219    543.411981   \n",
       "std    4.109872e+07    2879.092823      0.0    942.281439     85.670459   \n",
       "min    6.386315e+03       0.561000     47.0    476.000000    196.000000   \n",
       "25%    4.054948e+07      95.470000     47.0   1912.000000    555.000000   \n",
       "50%    7.425822e+07     113.913000     47.0   2666.000000    559.000000   \n",
       "75%    1.101991e+08     189.388000     47.0   3362.000000    595.000000   \n",
       "max    1.461221e+08  163248.610000     47.0   4075.000000    596.000000   \n",
       "\n",
       "       Table_4  \n",
       "count  60061.0  \n",
       "mean      56.0  \n",
       "std        0.0  \n",
       "min       56.0  \n",
       "25%       56.0  \n",
       "50%       56.0  \n",
       "75%       56.0  \n",
       "max       56.0  "
      ]
     },
     "execution_count": 14,
     "metadata": {},
     "output_type": "execute_result"
    }
   ],
   "source": [
    "data.describe()"
   ]
  },
  {
   "cell_type": "code",
   "execution_count": 15,
   "metadata": {},
   "outputs": [
    {
     "data": {
      "text/plain": [
       "viewName\n",
       "Procedure_7    36355.0\n",
       "Procedure_8     7947.0\n",
       "Procedure_5     7903.0\n",
       "Procedure_6     7842.0\n",
       "Name: viewName, dtype: float64"
      ]
     },
     "execution_count": 15,
     "metadata": {},
     "output_type": "execute_result"
    }
   ],
   "source": [
    "top_proc_names = data.groupby('viewName')['viewName'].count().sort_values(ascending=False)\n",
    "top_proc_names = top_proc_names.where(top_proc_names>5000).dropna()\n",
    "top_proc_names"
   ]
  },
  {
   "cell_type": "code",
   "execution_count": 16,
   "metadata": {},
   "outputs": [],
   "source": [
    "#Get only data with high std\n",
    "poi = data[['viewName','timestamp','duration','Table_2','Table_3']]"
   ]
  },
  {
   "cell_type": "code",
   "execution_count": 17,
   "metadata": {},
   "outputs": [
    {
     "data": {
      "image/png": "[encoded data removed]",
      "text/plain": [
       "<Figure size 432x432 with 3 Axes>"
      ]
     },
     "metadata": {},
     "output_type": "display_data"
    },
    {
     "data": {
      "image/png": "[encoded data removed]",
      "text/plain": [
       "<Figure size 432x432 with 3 Axes>"
      ]
     },
     "metadata": {},
     "output_type": "display_data"
    },
    {
     "data": {
      "image/png": "[encoded data removed]",
      "text/plain": [
       "<Figure size 432x432 with 3 Axes>"
      ]
     },
     "metadata": {},
     "output_type": "display_data"
    },
    {
     "data": {
      "image/png": "[encoded data removed]",
      "text/plain": [
       "<Figure size 432x432 with 3 Axes>"
      ]
     },
     "metadata": {},
     "output_type": "display_data"
    }
   ],
   "source": [
    "for index, value in top_proc_names.items():\n",
    "    df = poi[poi.viewName == str(index)]\n",
    "    sns.jointplot(x=\"Table_2\", y=\"duration\", data=df);\n",
    "    plt.title(index)"
   ]
  },
  {
   "cell_type": "code",
   "execution_count": 18,
   "metadata": {},
   "outputs": [
    {
     "data": {
      "image/png": "[encoded data removed]",
      "text/plain": [
       "<Figure size 432x432 with 3 Axes>"
      ]
     },
     "metadata": {},
     "output_type": "display_data"
    },
    {
     "data": {
      "image/png": "[encoded data removed]",
      "text/plain": [
       "<Figure size 432x432 with 3 Axes>"
      ]
     },
     "metadata": {},
     "output_type": "display_data"
    },
    {
     "data": {
      "image/png": "[encoded data removed]",
      "text/plain": [
       "<Figure size 432x432 with 3 Axes>"
      ]
     },
     "metadata": {},
     "output_type": "display_data"
    },
    {
     "data": {
      "image/png": "[encoded data removed]",
      "text/plain": [
       "<Figure size 432x432 with 3 Axes>"
      ]
     },
     "metadata": {},
     "output_type": "display_data"
    }
   ],
   "source": [
    "for index, value in top_proc_names.items():\n",
    "    df = poi[poi.viewName == str(index)]\n",
    "    sns.jointplot(x=\"Table_3\", y=\"duration\", data=df);\n",
    "    plt.title(index)"
   ]
  },
  {
   "cell_type": "code",
   "execution_count": 38,
   "metadata": {},
   "outputs": [
    {
     "name": "stderr",
     "output_type": "stream",
     "text": [
      "/home/jupyterlab/conda/envs/python/lib/python3.6/site-packages/pandas/core/indexing.py:966: SettingWithCopyWarning: \n",
      "A value is trying to be set on a copy of a slice from a DataFrame.\n",
      "Try using .loc[row_indexer,col_indexer] = value instead\n",
      "\n",
      "See the caveats in the documentation: https://pandas.pydata.org/pandas-docs/stable/user_guide/indexing.html#returning-a-view-versus-a-copy\n",
      "  self.obj[item] = s\n"
     ]
    },
    {
     "data": {
      "text/plain": [
       "count    40300.000000\n",
       "mean         1.490347\n",
       "std          0.714469\n",
       "min          1.000000\n",
       "25%          1.000000\n",
       "50%          1.000000\n",
       "75%          2.000000\n",
       "max          6.000000\n",
       "dtype: float64"
      ]
     },
     "execution_count": 38,
     "metadata": {},
     "output_type": "execute_result"
    }
   ],
   "source": [
    "poi.loc[:, 'second'] = poi.timestamp.apply(lambda x: round(x/1000))\n",
    "time_series = poi.groupby('second').size()\n",
    "time_series.describe()"
   ]
  },
  {
   "cell_type": "code",
   "execution_count": 41,
   "metadata": {},
   "outputs": [],
   "source": [
    "from sklearn.cluster import KMeans\n",
    "from sklearn.preprocessing import MinMaxScaler\n",
    "from sklearn.preprocessing import LabelEncoder"
   ]
  },
  {
   "cell_type": "code",
   "execution_count": 42,
   "metadata": {},
   "outputs": [
    {
     "data": {
      "text/html": [
       "<div>\n",
       "<style scoped>\n",
       "    .dataframe tbody tr th:only-of-type {\n",
       "        vertical-align: middle;\n",
       "    }\n",
       "\n",
       "    .dataframe tbody tr th {\n",
       "        vertical-align: top;\n",
       "    }\n",
       "\n",
       "    .dataframe thead th {\n",
       "        text-align: right;\n",
       "    }\n",
       "</style>\n",
       "<table border=\"1\" class=\"dataframe\">\n",
       "  <thead>\n",
       "    <tr style=\"text-align: right;\">\n",
       "      <th></th>\n",
       "      <th>timestamp</th>\n",
       "      <th>duration</th>\n",
       "      <th>Table_2</th>\n",
       "      <th>Table_3</th>\n",
       "      <th>second</th>\n",
       "      <th>viewName_Procedure_4</th>\n",
       "      <th>viewName_Procedure_5</th>\n",
       "      <th>viewName_Procedure_6</th>\n",
       "      <th>viewName_Procedure_7</th>\n",
       "      <th>viewName_Procedure_8</th>\n",
       "      <th>viewName_Procedure_9</th>\n",
       "    </tr>\n",
       "  </thead>\n",
       "  <tbody>\n",
       "    <tr>\n",
       "      <th>9</th>\n",
       "      <td>6386.315</td>\n",
       "      <td>97.403</td>\n",
       "      <td>476.0</td>\n",
       "      <td>199.0</td>\n",
       "      <td>6</td>\n",
       "      <td>1</td>\n",
       "      <td>0</td>\n",
       "      <td>0</td>\n",
       "      <td>0</td>\n",
       "      <td>0</td>\n",
       "      <td>0</td>\n",
       "    </tr>\n",
       "    <tr>\n",
       "      <th>11</th>\n",
       "      <td>7727.993</td>\n",
       "      <td>1341.620</td>\n",
       "      <td>476.0</td>\n",
       "      <td>199.0</td>\n",
       "      <td>8</td>\n",
       "      <td>0</td>\n",
       "      <td>1</td>\n",
       "      <td>0</td>\n",
       "      <td>0</td>\n",
       "      <td>0</td>\n",
       "      <td>0</td>\n",
       "    </tr>\n",
       "    <tr>\n",
       "      <th>13</th>\n",
       "      <td>8558.212</td>\n",
       "      <td>830.122</td>\n",
       "      <td>476.0</td>\n",
       "      <td>199.0</td>\n",
       "      <td>9</td>\n",
       "      <td>0</td>\n",
       "      <td>0</td>\n",
       "      <td>1</td>\n",
       "      <td>0</td>\n",
       "      <td>0</td>\n",
       "      <td>0</td>\n",
       "    </tr>\n",
       "    <tr>\n",
       "      <th>15</th>\n",
       "      <td>8688.390</td>\n",
       "      <td>130.130</td>\n",
       "      <td>476.0</td>\n",
       "      <td>199.0</td>\n",
       "      <td>9</td>\n",
       "      <td>0</td>\n",
       "      <td>0</td>\n",
       "      <td>0</td>\n",
       "      <td>1</td>\n",
       "      <td>0</td>\n",
       "      <td>0</td>\n",
       "    </tr>\n",
       "    <tr>\n",
       "      <th>17</th>\n",
       "      <td>8691.591</td>\n",
       "      <td>3.150</td>\n",
       "      <td>476.0</td>\n",
       "      <td>199.0</td>\n",
       "      <td>9</td>\n",
       "      <td>0</td>\n",
       "      <td>0</td>\n",
       "      <td>0</td>\n",
       "      <td>0</td>\n",
       "      <td>1</td>\n",
       "      <td>0</td>\n",
       "    </tr>\n",
       "  </tbody>\n",
       "</table>\n",
       "</div>"
      ],
      "text/plain": [
       "    timestamp  duration  Table_2  Table_3  second  viewName_Procedure_4  \\\n",
       "9    6386.315    97.403    476.0    199.0       6                     1   \n",
       "11   7727.993  1341.620    476.0    199.0       8                     0   \n",
       "13   8558.212   830.122    476.0    199.0       9                     0   \n",
       "15   8688.390   130.130    476.0    199.0       9                     0   \n",
       "17   8691.591     3.150    476.0    199.0       9                     0   \n",
       "\n",
       "    viewName_Procedure_5  viewName_Procedure_6  viewName_Procedure_7  \\\n",
       "9                      0                     0                     0   \n",
       "11                     1                     0                     0   \n",
       "13                     0                     1                     0   \n",
       "15                     0                     0                     1   \n",
       "17                     0                     0                     0   \n",
       "\n",
       "    viewName_Procedure_8  viewName_Procedure_9  \n",
       "9                      0                     0  \n",
       "11                     0                     0  \n",
       "13                     0                     0  \n",
       "15                     0                     0  \n",
       "17                     1                     0  "
      ]
     },
     "execution_count": 42,
     "metadata": {},
     "output_type": "execute_result"
    }
   ],
   "source": [
    "poi = pd.get_dummies(poi, prefix_sep='_', drop_first=True)\n",
    "poi.head()"
   ]
  },
  {
   "cell_type": "code",
   "execution_count": 43,
   "metadata": {},
   "outputs": [
    {
     "name": "stderr",
     "output_type": "stream",
     "text": [
      "/home/jupyterlab/conda/envs/python/lib/python3.6/site-packages/sklearn/preprocessing/data.py:323: DataConversionWarning: Data with input dtype uint8, int64, float64 were all converted to float64 by MinMaxScaler.\n",
      "  return self.partial_fit(X, y)\n"
     ]
    },
    {
     "name": "stdout",
     "output_type": "stream",
     "text": [
      "Clustering completed in 75.68 secs\n"
     ]
    }
   ],
   "source": [
    "df_pois_clu = pd.DataFrame(poi, copy = True)\n",
    "scaler = MinMaxScaler()\n",
    "\n",
    "df_pois_clu_scaled=scaler.fit_transform(df_pois_clu)\n",
    "\n",
    "start_time = time.time()\n",
    "km_scores = []\n",
    "db_score =[]\n",
    "max_num_of_clu = 10\n",
    "km_score_ = 0\n",
    "for n in range(2,2+max_num_of_clu):\n",
    "    cluster = KMeans(n_clusters=n).fit(df_pois_clu_scaled)\n",
    "    clu = cluster.predict(df_pois_clu_scaled)\n",
    "    km_scores.append(-cluster.score(df_pois_clu_scaled))\n",
    "    \n",
    "print('Clustering completed in {:,.2f} secs'.format(time.time()-start_time))"
   ]
  },
  {
   "cell_type": "code",
   "execution_count": 54,
   "metadata": {},
   "outputs": [
    {
     "data": {
      "text/plain": [
       "<AxesSubplot:>"
      ]
     },
     "execution_count": 54,
     "metadata": {},
     "output_type": "execute_result"
    },
    {
     "data": {
      "image/png": "[encoded data removed]",
      "text/plain": [
       "<Figure size 432x288 with 1 Axes>"
      ]
     },
     "metadata": {},
     "output_type": "display_data"
    }
   ],
   "source": [
    "km_scores_df = pd.DataFrame(km_scores)\n",
    "sns.lineplot(data=km_scores_df)"
   ]
  },
  {
   "cell_type": "code",
   "execution_count": 55,
   "metadata": {},
   "outputs": [
    {
     "name": "stderr",
     "output_type": "stream",
     "text": [
      "/home/jupyterlab/conda/envs/python/lib/python3.6/site-packages/sklearn/preprocessing/data.py:323: DataConversionWarning: Data with input dtype uint8, int64, float64 were all converted to float64 by MinMaxScaler.\n",
      "  return self.partial_fit(X, y)\n"
     ]
    },
    {
     "name": "stdout",
     "output_type": "stream",
     "text": [
      "Clustering completed in 3.40 secs\n"
     ]
    }
   ],
   "source": [
    "start_time = time.time()\n",
    "\n",
    "clu_num = 3\n",
    "df_pois_clu = pd.DataFrame(poi, copy = True)\n",
    "scaler = MinMaxScaler()\n",
    "df_pois_clu_scaled=scaler.fit_transform(df_pois_clu)\n",
    "\n",
    "cluster = KMeans(n_clusters=clu_num).fit(df_pois_clu_scaled)\n",
    "clu = cluster.predict(df_pois_clu_scaled)\n",
    "\n",
    "poi['Cluster'] = clu\n",
    "\n",
    "print('Clustering completed in {:,.2f} secs'.format(time.time()-start_time))"
   ]
  },
  {
   "cell_type": "code",
   "execution_count": 56,
   "metadata": {},
   "outputs": [
    {
     "data": {
      "text/html": [
       "<div>\n",
       "<style scoped>\n",
       "    .dataframe tbody tr th:only-of-type {\n",
       "        vertical-align: middle;\n",
       "    }\n",
       "\n",
       "    .dataframe tbody tr th {\n",
       "        vertical-align: top;\n",
       "    }\n",
       "\n",
       "    .dataframe thead th {\n",
       "        text-align: right;\n",
       "    }\n",
       "</style>\n",
       "<table border=\"1\" class=\"dataframe\">\n",
       "  <thead>\n",
       "    <tr style=\"text-align: right;\">\n",
       "      <th></th>\n",
       "      <th>timestamp</th>\n",
       "      <th>duration</th>\n",
       "      <th>Table_2</th>\n",
       "      <th>Table_3</th>\n",
       "      <th>second</th>\n",
       "      <th>viewName_Procedure_4</th>\n",
       "      <th>viewName_Procedure_5</th>\n",
       "      <th>viewName_Procedure_6</th>\n",
       "      <th>viewName_Procedure_7</th>\n",
       "      <th>viewName_Procedure_8</th>\n",
       "      <th>viewName_Procedure_9</th>\n",
       "      <th>Cluster</th>\n",
       "    </tr>\n",
       "  </thead>\n",
       "  <tbody>\n",
       "    <tr>\n",
       "      <th>9</th>\n",
       "      <td>6386.315</td>\n",
       "      <td>97.403</td>\n",
       "      <td>476.0</td>\n",
       "      <td>199.0</td>\n",
       "      <td>6</td>\n",
       "      <td>1</td>\n",
       "      <td>0</td>\n",
       "      <td>0</td>\n",
       "      <td>0</td>\n",
       "      <td>0</td>\n",
       "      <td>0</td>\n",
       "      <td>2</td>\n",
       "    </tr>\n",
       "    <tr>\n",
       "      <th>11</th>\n",
       "      <td>7727.993</td>\n",
       "      <td>1341.620</td>\n",
       "      <td>476.0</td>\n",
       "      <td>199.0</td>\n",
       "      <td>8</td>\n",
       "      <td>0</td>\n",
       "      <td>1</td>\n",
       "      <td>0</td>\n",
       "      <td>0</td>\n",
       "      <td>0</td>\n",
       "      <td>0</td>\n",
       "      <td>2</td>\n",
       "    </tr>\n",
       "    <tr>\n",
       "      <th>13</th>\n",
       "      <td>8558.212</td>\n",
       "      <td>830.122</td>\n",
       "      <td>476.0</td>\n",
       "      <td>199.0</td>\n",
       "      <td>9</td>\n",
       "      <td>0</td>\n",
       "      <td>0</td>\n",
       "      <td>1</td>\n",
       "      <td>0</td>\n",
       "      <td>0</td>\n",
       "      <td>0</td>\n",
       "      <td>2</td>\n",
       "    </tr>\n",
       "    <tr>\n",
       "      <th>15</th>\n",
       "      <td>8688.390</td>\n",
       "      <td>130.130</td>\n",
       "      <td>476.0</td>\n",
       "      <td>199.0</td>\n",
       "      <td>9</td>\n",
       "      <td>0</td>\n",
       "      <td>0</td>\n",
       "      <td>0</td>\n",
       "      <td>1</td>\n",
       "      <td>0</td>\n",
       "      <td>0</td>\n",
       "      <td>0</td>\n",
       "    </tr>\n",
       "    <tr>\n",
       "      <th>17</th>\n",
       "      <td>8691.591</td>\n",
       "      <td>3.150</td>\n",
       "      <td>476.0</td>\n",
       "      <td>199.0</td>\n",
       "      <td>9</td>\n",
       "      <td>0</td>\n",
       "      <td>0</td>\n",
       "      <td>0</td>\n",
       "      <td>0</td>\n",
       "      <td>1</td>\n",
       "      <td>0</td>\n",
       "      <td>1</td>\n",
       "    </tr>\n",
       "  </tbody>\n",
       "</table>\n",
       "</div>"
      ],
      "text/plain": [
       "    timestamp  duration  Table_2  Table_3  second  viewName_Procedure_4  \\\n",
       "9    6386.315    97.403    476.0    199.0       6                     1   \n",
       "11   7727.993  1341.620    476.0    199.0       8                     0   \n",
       "13   8558.212   830.122    476.0    199.0       9                     0   \n",
       "15   8688.390   130.130    476.0    199.0       9                     0   \n",
       "17   8691.591     3.150    476.0    199.0       9                     0   \n",
       "\n",
       "    viewName_Procedure_5  viewName_Procedure_6  viewName_Procedure_7  \\\n",
       "9                      0                     0                     0   \n",
       "11                     1                     0                     0   \n",
       "13                     0                     1                     0   \n",
       "15                     0                     0                     1   \n",
       "17                     0                     0                     0   \n",
       "\n",
       "    viewName_Procedure_8  viewName_Procedure_9  Cluster  \n",
       "9                      0                     0        2  \n",
       "11                     0                     0        2  \n",
       "13                     0                     0        2  \n",
       "15                     0                     0        0  \n",
       "17                     1                     0        1  "
      ]
     },
     "execution_count": 56,
     "metadata": {},
     "output_type": "execute_result"
    }
   ],
   "source": [
    "poi.head()"
   ]
  },
  {
   "cell_type": "code",
   "execution_count": 72,
   "metadata": {},
   "outputs": [
    {
     "data": {
      "text/html": [
       "<div>\n",
       "<style scoped>\n",
       "    .dataframe tbody tr th:only-of-type {\n",
       "        vertical-align: middle;\n",
       "    }\n",
       "\n",
       "    .dataframe tbody tr th {\n",
       "        vertical-align: top;\n",
       "    }\n",
       "\n",
       "    .dataframe thead th {\n",
       "        text-align: right;\n",
       "    }\n",
       "</style>\n",
       "<table border=\"1\" class=\"dataframe\">\n",
       "  <thead>\n",
       "    <tr style=\"text-align: right;\">\n",
       "      <th></th>\n",
       "      <th>timestamp</th>\n",
       "      <th>duration</th>\n",
       "      <th>Table_2</th>\n",
       "      <th>Table_3</th>\n",
       "      <th>second</th>\n",
       "      <th>viewName_Procedure_4</th>\n",
       "      <th>viewName_Procedure_5</th>\n",
       "      <th>viewName_Procedure_6</th>\n",
       "      <th>viewName_Procedure_7</th>\n",
       "      <th>viewName_Procedure_8</th>\n",
       "      <th>viewName_Procedure_9</th>\n",
       "    </tr>\n",
       "    <tr>\n",
       "      <th>Cluster</th>\n",
       "      <th></th>\n",
       "      <th></th>\n",
       "      <th></th>\n",
       "      <th></th>\n",
       "      <th></th>\n",
       "      <th></th>\n",
       "      <th></th>\n",
       "      <th></th>\n",
       "      <th></th>\n",
       "      <th></th>\n",
       "      <th></th>\n",
       "    </tr>\n",
       "  </thead>\n",
       "  <tbody>\n",
       "    <tr>\n",
       "      <th>0</th>\n",
       "      <td>36355</td>\n",
       "      <td>36355</td>\n",
       "      <td>36355</td>\n",
       "      <td>36355</td>\n",
       "      <td>36355</td>\n",
       "      <td>36355</td>\n",
       "      <td>36355</td>\n",
       "      <td>36355</td>\n",
       "      <td>36355</td>\n",
       "      <td>36355</td>\n",
       "      <td>36355</td>\n",
       "    </tr>\n",
       "    <tr>\n",
       "      <th>1</th>\n",
       "      <td>7947</td>\n",
       "      <td>7947</td>\n",
       "      <td>7947</td>\n",
       "      <td>7947</td>\n",
       "      <td>7947</td>\n",
       "      <td>7947</td>\n",
       "      <td>7947</td>\n",
       "      <td>7947</td>\n",
       "      <td>7947</td>\n",
       "      <td>7947</td>\n",
       "      <td>7947</td>\n",
       "    </tr>\n",
       "    <tr>\n",
       "      <th>2</th>\n",
       "      <td>15759</td>\n",
       "      <td>15759</td>\n",
       "      <td>15759</td>\n",
       "      <td>15759</td>\n",
       "      <td>15759</td>\n",
       "      <td>15759</td>\n",
       "      <td>15759</td>\n",
       "      <td>15759</td>\n",
       "      <td>15759</td>\n",
       "      <td>15759</td>\n",
       "      <td>15759</td>\n",
       "    </tr>\n",
       "  </tbody>\n",
       "</table>\n",
       "</div>"
      ],
      "text/plain": [
       "         timestamp  duration  Table_2  Table_3  second  viewName_Procedure_4  \\\n",
       "Cluster                                                                        \n",
       "0            36355     36355    36355    36355   36355                 36355   \n",
       "1             7947      7947     7947     7947    7947                  7947   \n",
       "2            15759     15759    15759    15759   15759                 15759   \n",
       "\n",
       "         viewName_Procedure_5  viewName_Procedure_6  viewName_Procedure_7  \\\n",
       "Cluster                                                                     \n",
       "0                       36355                 36355                 36355   \n",
       "1                        7947                  7947                  7947   \n",
       "2                       15759                 15759                 15759   \n",
       "\n",
       "         viewName_Procedure_8  viewName_Procedure_9  \n",
       "Cluster                                              \n",
       "0                       36355                 36355  \n",
       "1                        7947                  7947  \n",
       "2                       15759                 15759  "
      ]
     },
     "execution_count": 72,
     "metadata": {},
     "output_type": "execute_result"
    }
   ],
   "source": [
    "poi.groupby('Cluster').s"
   ]
  },
  {
   "cell_type": "code",
   "execution_count": 63,
   "metadata": {},
   "outputs": [
    {
     "name": "stdout",
     "output_type": "stream",
     "text": [
      "          timestamp       duration       Table_2       Table_3         second  \\\n",
      "count  3.635500e+04   36355.000000  36355.000000  36355.000000   36355.000000   \n",
      "mean   7.477430e+07     535.403781   2576.189300    544.017632   74774.299161   \n",
      "std    4.089859e+07    3681.317717    936.417363     84.722044   40898.585062   \n",
      "min    8.688390e+03      78.904000    476.000000    196.000000       9.000000   \n",
      "25%    4.089392e+07     108.068000   1923.000000    555.000000   40894.000000   \n",
      "50%    7.391827e+07     124.487000   2662.000000    559.000000   73918.000000   \n",
      "75%    1.099926e+08     206.641000   3356.000000    595.000000  109992.500000   \n",
      "max    1.461221e+08  163248.610000   4075.000000    596.000000  146122.000000   \n",
      "\n",
      "       viewName_Procedure_4  viewName_Procedure_5  viewName_Procedure_6  \\\n",
      "count               36355.0               36355.0               36355.0   \n",
      "mean                    0.0                   0.0                   0.0   \n",
      "std                     0.0                   0.0                   0.0   \n",
      "min                     0.0                   0.0                   0.0   \n",
      "25%                     0.0                   0.0                   0.0   \n",
      "50%                     0.0                   0.0                   0.0   \n",
      "75%                     0.0                   0.0                   0.0   \n",
      "max                     0.0                   0.0                   0.0   \n",
      "\n",
      "       viewName_Procedure_7  viewName_Procedure_8  viewName_Procedure_9  \\\n",
      "count               36355.0               36355.0               36355.0   \n",
      "mean                    1.0                   0.0                   0.0   \n",
      "std                     0.0                   0.0                   0.0   \n",
      "min                     1.0                   0.0                   0.0   \n",
      "25%                     1.0                   0.0                   0.0   \n",
      "50%                     1.0                   0.0                   0.0   \n",
      "75%                     1.0                   0.0                   0.0   \n",
      "max                     1.0                   0.0                   0.0   \n",
      "\n",
      "       Cluster  \n",
      "count  36355.0  \n",
      "mean       0.0  \n",
      "std        0.0  \n",
      "min        0.0  \n",
      "25%        0.0  \n",
      "50%        0.0  \n",
      "75%        0.0  \n",
      "max        0.0  \n",
      "          timestamp     duration      Table_2      Table_3         second  \\\n",
      "count  7.947000e+03  7947.000000  7947.000000  7947.000000    7947.000000   \n",
      "mean   7.470444e+07    22.407807  2570.643513   542.324022   74704.440544   \n",
      "std    4.140424e+07    73.301725   951.558420    87.252193   41404.234138   \n",
      "min    8.691591e+03     0.670000   476.000000   196.000000       9.000000   \n",
      "25%    3.986257e+07     1.166000  1896.000000   555.000000   39862.500000   \n",
      "50%    7.475874e+07     4.078000  2677.000000   559.000000   74759.000000   \n",
      "75%    1.103933e+08    11.824000  3368.000000   595.000000  110393.500000   \n",
      "max    1.461221e+08  1637.680000  4075.000000   596.000000  146122.000000   \n",
      "\n",
      "       viewName_Procedure_4  viewName_Procedure_5  viewName_Procedure_6  \\\n",
      "count                7947.0                7947.0                7947.0   \n",
      "mean                    0.0                   0.0                   0.0   \n",
      "std                     0.0                   0.0                   0.0   \n",
      "min                     0.0                   0.0                   0.0   \n",
      "25%                     0.0                   0.0                   0.0   \n",
      "50%                     0.0                   0.0                   0.0   \n",
      "75%                     0.0                   0.0                   0.0   \n",
      "max                     0.0                   0.0                   0.0   \n",
      "\n",
      "       viewName_Procedure_7  viewName_Procedure_8  viewName_Procedure_9  \\\n",
      "count                7947.0                7947.0                7947.0   \n",
      "mean                    0.0                   1.0                   0.0   \n",
      "std                     0.0                   0.0                   0.0   \n",
      "min                     0.0                   1.0                   0.0   \n",
      "25%                     0.0                   1.0                   0.0   \n",
      "50%                     0.0                   1.0                   0.0   \n",
      "75%                     0.0                   1.0                   0.0   \n",
      "max                     0.0                   1.0                   0.0   \n",
      "\n",
      "       Cluster  \n",
      "count   7947.0  \n",
      "mean       1.0  \n",
      "std        0.0  \n",
      "min        1.0  \n",
      "25%        1.0  \n",
      "50%        1.0  \n",
      "75%        1.0  \n",
      "max        1.0  \n",
      "          timestamp      duration       Table_2       Table_3         second  \\\n",
      "count  1.575900e+04  15759.000000  15759.000000  15759.000000   15759.000000   \n",
      "mean   7.483823e+07    255.714364   2573.821435    542.563424   74838.228758   \n",
      "std    4.140604e+07    436.799760    951.078159     87.023532   41406.042454   \n",
      "min    6.386315e+03      0.561000    476.000000    196.000000       6.000000   \n",
      "25%    4.006724e+07     67.727500   1900.000000    555.000000   40067.500000   \n",
      "50%    7.481180e+07    100.318000   2678.000000    559.000000   74812.000000   \n",
      "75%    1.105886e+08    231.881500   3370.000000    595.000000  110588.500000   \n",
      "max    1.461221e+08  15374.420000   4075.000000    596.000000  146122.000000   \n",
      "\n",
      "       viewName_Procedure_4  viewName_Procedure_5  viewName_Procedure_6  \\\n",
      "count          15759.000000          15759.000000           15759.00000   \n",
      "mean               0.000254              0.501491               0.49762   \n",
      "std                0.015930              0.500014               0.50001   \n",
      "min                0.000000              0.000000               0.00000   \n",
      "25%                0.000000              0.000000               0.00000   \n",
      "50%                0.000000              1.000000               0.00000   \n",
      "75%                0.000000              1.000000               1.00000   \n",
      "max                1.000000              1.000000               1.00000   \n",
      "\n",
      "       viewName_Procedure_7  viewName_Procedure_8  viewName_Procedure_9  \\\n",
      "count               15759.0               15759.0          15759.000000   \n",
      "mean                    0.0                   0.0              0.000381   \n",
      "std                     0.0                   0.0              0.019509   \n",
      "min                     0.0                   0.0              0.000000   \n",
      "25%                     0.0                   0.0              0.000000   \n",
      "50%                     0.0                   0.0              0.000000   \n",
      "75%                     0.0                   0.0              0.000000   \n",
      "max                     0.0                   0.0              1.000000   \n",
      "\n",
      "       Cluster  \n",
      "count  15759.0  \n",
      "mean       2.0  \n",
      "std        0.0  \n",
      "min        2.0  \n",
      "25%        2.0  \n",
      "50%        2.0  \n",
      "75%        2.0  \n",
      "max        2.0  \n"
     ]
    }
   ],
   "source": [
    "for i in range(0,3):\n",
    "    clu0 = poi[poi.Cluster==i]\n",
    "    print(clu0.describe())"
   ]
  },
  {
   "cell_type": "code",
   "execution_count": null,
   "metadata": {},
   "outputs": [],
   "source": []
  }
 ],
 "metadata": {
  "kernelspec": {
   "display_name": "Python",
   "language": "python",
   "name": "conda-env-python-py"
  },
  "language_info": {
   "codemirror_mode": {
    "name": "ipython",
    "version": 3
   },
   "file_extension": ".py",
   "mimetype": "text/x-python",
   "name": "python",
   "nbconvert_exporter": "python",
   "pygments_lexer": "ipython3",
   "version": "3.6.11"
  }
 },
 "nbformat": 4,
 "nbformat_minor": 4
}
