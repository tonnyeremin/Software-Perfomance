{
 "cells": [
  {
   "cell_type": "code",
   "execution_count": 37,
   "metadata": {},
   "outputs": [],
   "source": [
    "import pandas as pd\n",
    "import numpy as np"
   ]
  },
  {
   "cell_type": "markdown",
   "metadata": {},
   "source": [
    "## Data Cleaning"
   ]
  },
  {
   "cell_type": "code",
   "execution_count": 48,
   "metadata": {},
   "outputs": [
    {
     "ename": "FileNotFoundError",
     "evalue": "[Errno 2] File data/SqlMetric_prepared.csv does not exist: 'data/SqlMetric_prepared.csv'",
     "output_type": "error",
     "traceback": [
      "\u001b[0;31m---------------------------------------------------------------------------\u001b[0m",
      "\u001b[0;31mFileNotFoundError\u001b[0m                         Traceback (most recent call last)",
      "\u001b[0;32m<ipython-input-48-600d41ee3aae>\u001b[0m in \u001b[0;36m<module>\u001b[0;34m\u001b[0m\n\u001b[0;32m----> 1\u001b[0;31m \u001b[0mrawData\u001b[0m \u001b[0;34m=\u001b[0m \u001b[0mpd\u001b[0m\u001b[0;34m.\u001b[0m\u001b[0mread_csv\u001b[0m\u001b[0;34m(\u001b[0m\u001b[0;34m'data/SqlMetric_prepared.csv'\u001b[0m\u001b[0;34m)\u001b[0m\u001b[0;34m\u001b[0m\u001b[0;34m\u001b[0m\u001b[0m\n\u001b[0m\u001b[1;32m      2\u001b[0m \u001b[0mrawData\u001b[0m\u001b[0;34m.\u001b[0m\u001b[0mhead\u001b[0m\u001b[0;34m(\u001b[0m\u001b[0;34m)\u001b[0m\u001b[0;34m\u001b[0m\u001b[0;34m\u001b[0m\u001b[0m\n",
      "\u001b[0;32m~/conda/envs/python/lib/python3.6/site-packages/pandas/io/parsers.py\u001b[0m in \u001b[0;36mparser_f\u001b[0;34m(filepath_or_buffer, sep, delimiter, header, names, index_col, usecols, squeeze, prefix, mangle_dupe_cols, dtype, engine, converters, true_values, false_values, skipinitialspace, skiprows, skipfooter, nrows, na_values, keep_default_na, na_filter, verbose, skip_blank_lines, parse_dates, infer_datetime_format, keep_date_col, date_parser, dayfirst, cache_dates, iterator, chunksize, compression, thousands, decimal, lineterminator, quotechar, quoting, doublequote, escapechar, comment, encoding, dialect, error_bad_lines, warn_bad_lines, delim_whitespace, low_memory, memory_map, float_precision)\u001b[0m\n\u001b[1;32m    674\u001b[0m         )\n\u001b[1;32m    675\u001b[0m \u001b[0;34m\u001b[0m\u001b[0m\n\u001b[0;32m--> 676\u001b[0;31m         \u001b[0;32mreturn\u001b[0m \u001b[0m_read\u001b[0m\u001b[0;34m(\u001b[0m\u001b[0mfilepath_or_buffer\u001b[0m\u001b[0;34m,\u001b[0m \u001b[0mkwds\u001b[0m\u001b[0;34m)\u001b[0m\u001b[0;34m\u001b[0m\u001b[0;34m\u001b[0m\u001b[0m\n\u001b[0m\u001b[1;32m    677\u001b[0m \u001b[0;34m\u001b[0m\u001b[0m\n\u001b[1;32m    678\u001b[0m     \u001b[0mparser_f\u001b[0m\u001b[0;34m.\u001b[0m\u001b[0m__name__\u001b[0m \u001b[0;34m=\u001b[0m \u001b[0mname\u001b[0m\u001b[0;34m\u001b[0m\u001b[0;34m\u001b[0m\u001b[0m\n",
      "\u001b[0;32m~/conda/envs/python/lib/python3.6/site-packages/pandas/io/parsers.py\u001b[0m in \u001b[0;36m_read\u001b[0;34m(filepath_or_buffer, kwds)\u001b[0m\n\u001b[1;32m    446\u001b[0m \u001b[0;34m\u001b[0m\u001b[0m\n\u001b[1;32m    447\u001b[0m     \u001b[0;31m# Create the parser.\u001b[0m\u001b[0;34m\u001b[0m\u001b[0;34m\u001b[0m\u001b[0;34m\u001b[0m\u001b[0m\n\u001b[0;32m--> 448\u001b[0;31m     \u001b[0mparser\u001b[0m \u001b[0;34m=\u001b[0m \u001b[0mTextFileReader\u001b[0m\u001b[0;34m(\u001b[0m\u001b[0mfp_or_buf\u001b[0m\u001b[0;34m,\u001b[0m \u001b[0;34m**\u001b[0m\u001b[0mkwds\u001b[0m\u001b[0;34m)\u001b[0m\u001b[0;34m\u001b[0m\u001b[0;34m\u001b[0m\u001b[0m\n\u001b[0m\u001b[1;32m    449\u001b[0m \u001b[0;34m\u001b[0m\u001b[0m\n\u001b[1;32m    450\u001b[0m     \u001b[0;32mif\u001b[0m \u001b[0mchunksize\u001b[0m \u001b[0;32mor\u001b[0m \u001b[0miterator\u001b[0m\u001b[0;34m:\u001b[0m\u001b[0;34m\u001b[0m\u001b[0;34m\u001b[0m\u001b[0m\n",
      "\u001b[0;32m~/conda/envs/python/lib/python3.6/site-packages/pandas/io/parsers.py\u001b[0m in \u001b[0;36m__init__\u001b[0;34m(self, f, engine, **kwds)\u001b[0m\n\u001b[1;32m    878\u001b[0m             \u001b[0mself\u001b[0m\u001b[0;34m.\u001b[0m\u001b[0moptions\u001b[0m\u001b[0;34m[\u001b[0m\u001b[0;34m\"has_index_names\"\u001b[0m\u001b[0;34m]\u001b[0m \u001b[0;34m=\u001b[0m \u001b[0mkwds\u001b[0m\u001b[0;34m[\u001b[0m\u001b[0;34m\"has_index_names\"\u001b[0m\u001b[0;34m]\u001b[0m\u001b[0;34m\u001b[0m\u001b[0;34m\u001b[0m\u001b[0m\n\u001b[1;32m    879\u001b[0m \u001b[0;34m\u001b[0m\u001b[0m\n\u001b[0;32m--> 880\u001b[0;31m         \u001b[0mself\u001b[0m\u001b[0;34m.\u001b[0m\u001b[0m_make_engine\u001b[0m\u001b[0;34m(\u001b[0m\u001b[0mself\u001b[0m\u001b[0;34m.\u001b[0m\u001b[0mengine\u001b[0m\u001b[0;34m)\u001b[0m\u001b[0;34m\u001b[0m\u001b[0;34m\u001b[0m\u001b[0m\n\u001b[0m\u001b[1;32m    881\u001b[0m \u001b[0;34m\u001b[0m\u001b[0m\n\u001b[1;32m    882\u001b[0m     \u001b[0;32mdef\u001b[0m \u001b[0mclose\u001b[0m\u001b[0;34m(\u001b[0m\u001b[0mself\u001b[0m\u001b[0;34m)\u001b[0m\u001b[0;34m:\u001b[0m\u001b[0;34m\u001b[0m\u001b[0;34m\u001b[0m\u001b[0m\n",
      "\u001b[0;32m~/conda/envs/python/lib/python3.6/site-packages/pandas/io/parsers.py\u001b[0m in \u001b[0;36m_make_engine\u001b[0;34m(self, engine)\u001b[0m\n\u001b[1;32m   1112\u001b[0m     \u001b[0;32mdef\u001b[0m \u001b[0m_make_engine\u001b[0m\u001b[0;34m(\u001b[0m\u001b[0mself\u001b[0m\u001b[0;34m,\u001b[0m \u001b[0mengine\u001b[0m\u001b[0;34m=\u001b[0m\u001b[0;34m\"c\"\u001b[0m\u001b[0;34m)\u001b[0m\u001b[0;34m:\u001b[0m\u001b[0;34m\u001b[0m\u001b[0;34m\u001b[0m\u001b[0m\n\u001b[1;32m   1113\u001b[0m         \u001b[0;32mif\u001b[0m \u001b[0mengine\u001b[0m \u001b[0;34m==\u001b[0m \u001b[0;34m\"c\"\u001b[0m\u001b[0;34m:\u001b[0m\u001b[0;34m\u001b[0m\u001b[0;34m\u001b[0m\u001b[0m\n\u001b[0;32m-> 1114\u001b[0;31m             \u001b[0mself\u001b[0m\u001b[0;34m.\u001b[0m\u001b[0m_engine\u001b[0m \u001b[0;34m=\u001b[0m \u001b[0mCParserWrapper\u001b[0m\u001b[0;34m(\u001b[0m\u001b[0mself\u001b[0m\u001b[0;34m.\u001b[0m\u001b[0mf\u001b[0m\u001b[0;34m,\u001b[0m \u001b[0;34m**\u001b[0m\u001b[0mself\u001b[0m\u001b[0;34m.\u001b[0m\u001b[0moptions\u001b[0m\u001b[0;34m)\u001b[0m\u001b[0;34m\u001b[0m\u001b[0;34m\u001b[0m\u001b[0m\n\u001b[0m\u001b[1;32m   1115\u001b[0m         \u001b[0;32melse\u001b[0m\u001b[0;34m:\u001b[0m\u001b[0;34m\u001b[0m\u001b[0;34m\u001b[0m\u001b[0m\n\u001b[1;32m   1116\u001b[0m             \u001b[0;32mif\u001b[0m \u001b[0mengine\u001b[0m \u001b[0;34m==\u001b[0m \u001b[0;34m\"python\"\u001b[0m\u001b[0;34m:\u001b[0m\u001b[0;34m\u001b[0m\u001b[0;34m\u001b[0m\u001b[0m\n",
      "\u001b[0;32m~/conda/envs/python/lib/python3.6/site-packages/pandas/io/parsers.py\u001b[0m in \u001b[0;36m__init__\u001b[0;34m(self, src, **kwds)\u001b[0m\n\u001b[1;32m   1889\u001b[0m         \u001b[0mkwds\u001b[0m\u001b[0;34m[\u001b[0m\u001b[0;34m\"usecols\"\u001b[0m\u001b[0;34m]\u001b[0m \u001b[0;34m=\u001b[0m \u001b[0mself\u001b[0m\u001b[0;34m.\u001b[0m\u001b[0musecols\u001b[0m\u001b[0;34m\u001b[0m\u001b[0;34m\u001b[0m\u001b[0m\n\u001b[1;32m   1890\u001b[0m \u001b[0;34m\u001b[0m\u001b[0m\n\u001b[0;32m-> 1891\u001b[0;31m         \u001b[0mself\u001b[0m\u001b[0;34m.\u001b[0m\u001b[0m_reader\u001b[0m \u001b[0;34m=\u001b[0m \u001b[0mparsers\u001b[0m\u001b[0;34m.\u001b[0m\u001b[0mTextReader\u001b[0m\u001b[0;34m(\u001b[0m\u001b[0msrc\u001b[0m\u001b[0;34m,\u001b[0m \u001b[0;34m**\u001b[0m\u001b[0mkwds\u001b[0m\u001b[0;34m)\u001b[0m\u001b[0;34m\u001b[0m\u001b[0;34m\u001b[0m\u001b[0m\n\u001b[0m\u001b[1;32m   1892\u001b[0m         \u001b[0mself\u001b[0m\u001b[0;34m.\u001b[0m\u001b[0munnamed_cols\u001b[0m \u001b[0;34m=\u001b[0m \u001b[0mself\u001b[0m\u001b[0;34m.\u001b[0m\u001b[0m_reader\u001b[0m\u001b[0;34m.\u001b[0m\u001b[0munnamed_cols\u001b[0m\u001b[0;34m\u001b[0m\u001b[0;34m\u001b[0m\u001b[0m\n\u001b[1;32m   1893\u001b[0m \u001b[0;34m\u001b[0m\u001b[0m\n",
      "\u001b[0;32mpandas/_libs/parsers.pyx\u001b[0m in \u001b[0;36mpandas._libs.parsers.TextReader.__cinit__\u001b[0;34m()\u001b[0m\n",
      "\u001b[0;32mpandas/_libs/parsers.pyx\u001b[0m in \u001b[0;36mpandas._libs.parsers.TextReader._setup_parser_source\u001b[0;34m()\u001b[0m\n",
      "\u001b[0;31mFileNotFoundError\u001b[0m: [Errno 2] File data/SqlMetric_prepared.csv does not exist: 'data/SqlMetric_prepared.csv'"
     ]
    }
   ],
   "source": [
    "rawData = pd.read_csv('Evangelist_SqlPerf/data/SqlMetric_prepared.csv')\n",
    "rawData.head()"
   ]
  },
  {
   "cell_type": "code",
   "execution_count": 39,
   "metadata": {},
   "outputs": [],
   "source": [
    "rawData.drop(['ActivityID', 'Event Name', 'criteria', 'Process Name'], axis=1, inplace=True)"
   ]
  },
  {
   "cell_type": "code",
   "execution_count": 40,
   "metadata": {},
   "outputs": [
    {
     "data": {
      "text/plain": [
       "Time MSec             0\n",
       "DURATION_MSEC    173975\n",
       "metrics               0\n",
       "timestamp             0\n",
       "usn                   0\n",
       "viewName              0\n",
       "dtype: int64"
      ]
     },
     "execution_count": 40,
     "metadata": {},
     "output_type": "execute_result"
    }
   ],
   "source": [
    "rawData.isnull().sum()"
   ]
  },
  {
   "cell_type": "code",
   "execution_count": 41,
   "metadata": {},
   "outputs": [
    {
     "name": "stdout",
     "output_type": "stream",
     "text": [
      "Time MSec        0\n",
      "DURATION_MSEC    0\n",
      "metrics          0\n",
      "timestamp        0\n",
      "usn              0\n",
      "viewName         0\n",
      "dtype: int64\n",
      "Dataset shape: (173974, 6)\n"
     ]
    }
   ],
   "source": [
    "rawData.dropna(inplace=True)\n",
    "print(rawData.isnull().sum())\n",
    "print('Dataset shape: {}'.format(rawData.shape))"
   ]
  },
  {
   "cell_type": "code",
   "execution_count": 42,
   "metadata": {},
   "outputs": [
    {
     "data": {
      "text/html": [
       "<div>\n",
       "<style scoped>\n",
       "    .dataframe tbody tr th:only-of-type {\n",
       "        vertical-align: middle;\n",
       "    }\n",
       "\n",
       "    .dataframe tbody tr th {\n",
       "        vertical-align: top;\n",
       "    }\n",
       "\n",
       "    .dataframe thead th {\n",
       "        text-align: right;\n",
       "    }\n",
       "</style>\n",
       "<table border=\"1\" class=\"dataframe\">\n",
       "  <thead>\n",
       "    <tr style=\"text-align: right;\">\n",
       "      <th></th>\n",
       "      <th>Time MSec</th>\n",
       "      <th>DURATION_MSEC</th>\n",
       "      <th>metrics</th>\n",
       "      <th>timestamp</th>\n",
       "      <th>usn</th>\n",
       "      <th>viewName</th>\n",
       "    </tr>\n",
       "  </thead>\n",
       "  <tbody>\n",
       "    <tr>\n",
       "      <th>1</th>\n",
       "      <td>2621.028</td>\n",
       "      <td>102.572</td>\n",
       "      <td>Table_1:47 Table_2:476 Table_3:199 Table_4:56</td>\n",
       "      <td>11/15/2019 9:51</td>\n",
       "      <td>0</td>\n",
       "      <td>Procedure_0</td>\n",
       "    </tr>\n",
       "    <tr>\n",
       "      <th>3</th>\n",
       "      <td>2700.351</td>\n",
       "      <td>79.245</td>\n",
       "      <td>Table_1:47 Table_2:476 Table_3:199 Table_4:56</td>\n",
       "      <td>11/15/2019 9:51</td>\n",
       "      <td>0</td>\n",
       "      <td>Procedure_1</td>\n",
       "    </tr>\n",
       "    <tr>\n",
       "      <th>5</th>\n",
       "      <td>2701.448</td>\n",
       "      <td>1.073</td>\n",
       "      <td>Table_1:47 Table_2:476 Table_3:199 Table_4:56</td>\n",
       "      <td>11/15/2019 9:51</td>\n",
       "      <td>0</td>\n",
       "      <td>Procedure_2</td>\n",
       "    </tr>\n",
       "    <tr>\n",
       "      <th>7</th>\n",
       "      <td>6288.764</td>\n",
       "      <td>3,587.28</td>\n",
       "      <td>Table_1:47 Table_2:476 Table_3:199 Table_4:56</td>\n",
       "      <td>11/15/2019 9:51</td>\n",
       "      <td>0</td>\n",
       "      <td>Procedure_3</td>\n",
       "    </tr>\n",
       "    <tr>\n",
       "      <th>9</th>\n",
       "      <td>6386.315</td>\n",
       "      <td>97.403</td>\n",
       "      <td>Table_1:47 Table_2:476 Table_3:199 Table_4:56</td>\n",
       "      <td>11/15/2019 9:51</td>\n",
       "      <td>76,986</td>\n",
       "      <td>Procedure_4</td>\n",
       "    </tr>\n",
       "  </tbody>\n",
       "</table>\n",
       "</div>"
      ],
      "text/plain": [
       "   Time MSec DURATION_MSEC                                        metrics  \\\n",
       "1   2621.028       102.572  Table_1:47 Table_2:476 Table_3:199 Table_4:56   \n",
       "3   2700.351        79.245  Table_1:47 Table_2:476 Table_3:199 Table_4:56   \n",
       "5   2701.448         1.073  Table_1:47 Table_2:476 Table_3:199 Table_4:56   \n",
       "7   6288.764      3,587.28  Table_1:47 Table_2:476 Table_3:199 Table_4:56   \n",
       "9   6386.315        97.403  Table_1:47 Table_2:476 Table_3:199 Table_4:56   \n",
       "\n",
       "         timestamp     usn     viewName  \n",
       "1  11/15/2019 9:51       0  Procedure_0  \n",
       "3  11/15/2019 9:51       0  Procedure_1  \n",
       "5  11/15/2019 9:51       0  Procedure_2  \n",
       "7  11/15/2019 9:51       0  Procedure_3  \n",
       "9  11/15/2019 9:51  76,986  Procedure_4  "
      ]
     },
     "execution_count": 42,
     "metadata": {},
     "output_type": "execute_result"
    }
   ],
   "source": [
    "rawData.head()"
   ]
  },
  {
   "cell_type": "code",
   "execution_count": 43,
   "metadata": {},
   "outputs": [
    {
     "name": "stdout",
     "output_type": "stream",
     "text": [
      "Dataset shape: (173974, 6)\n",
      "Metrics: ['Table_1:47', 'Table_2:476', 'Table_3:199', 'Table_4:56']\n",
      "Parsing sql metrics\n",
      "Adding new metrics collumns\n",
      "Drop db_state column\n",
      "Parsing sql metrics finnised\n",
      "Dataset shape: (173974, 9)\n"
     ]
    }
   ],
   "source": [
    "rawData['db_state'] = rawData['metrics'].apply(lambda x: x.split(' '))\n",
    "rawData.drop(['metrics'], axis=1, inplace=True)\n",
    "print('Dataset shape: {}'.format(rawData.shape))\n",
    "row = rawData.iloc[0,5]\n",
    "print('Metrics: {}'.format(row))\n",
    "\n",
    "dic = {}\n",
    "\n",
    "for st in row:\n",
    "    splitted = st.split(':')\n",
    "    key = splitted[0] \n",
    "    dic[key] = [] \n",
    "    \n",
    "print('Parsing sql metrics')\n",
    "for index, row in rawData.iterrows():\n",
    "    metrics_row = row['db_state']\n",
    "    for i in range(0,4):\n",
    "        st = metrics_row[i]\n",
    "        splitted = st.split(':')\n",
    "        key = 'Table_{}'.format(i+1)\n",
    "        val = np.NaN   \n",
    "        if len(splitted)>1:\n",
    "            val = int(splitted[1])\n",
    "        \n",
    "        dic[key].append(val)\n",
    "        \n",
    "\n",
    "print('Adding new metrics collumns')     \n",
    "for key in dic.keys():\n",
    "    rawData[key] = dic[key]\n",
    "\n",
    "print('Drop db_state column')\n",
    "rawData.drop(['db_state'], axis=1, inplace=True)\n",
    "    \n",
    "print('Parsing sql metrics finnised')\n",
    "print('Dataset shape: {}'.format(rawData.shape))"
   ]
  },
  {
   "cell_type": "code",
   "execution_count": 44,
   "metadata": {},
   "outputs": [
    {
     "name": "stdout",
     "output_type": "stream",
     "text": [
      "Time MSec           0\n",
      "DURATION_MSEC       0\n",
      "timestamp           0\n",
      "usn                 0\n",
      "viewName            0\n",
      "Table_1          4844\n",
      "Table_2          4844\n",
      "Table_3          4844\n",
      "Table_4          4844\n",
      "dtype: int64\n"
     ]
    }
   ],
   "source": [
    "print(rawData.isnull().sum())"
   ]
  },
  {
   "cell_type": "code",
   "execution_count": 45,
   "metadata": {},
   "outputs": [
    {
     "name": "stdout",
     "output_type": "stream",
     "text": [
      "Dataset shape: (169130, 9)\n"
     ]
    }
   ],
   "source": [
    "rawData.dropna(inplace=True)\n",
    "print('Dataset shape: {}'.format(rawData.shape))"
   ]
  },
  {
   "cell_type": "code",
   "execution_count": 46,
   "metadata": {},
   "outputs": [
    {
     "data": {
      "text/html": [
       "<div>\n",
       "<style scoped>\n",
       "    .dataframe tbody tr th:only-of-type {\n",
       "        vertical-align: middle;\n",
       "    }\n",
       "\n",
       "    .dataframe tbody tr th {\n",
       "        vertical-align: top;\n",
       "    }\n",
       "\n",
       "    .dataframe thead th {\n",
       "        text-align: right;\n",
       "    }\n",
       "</style>\n",
       "<table border=\"1\" class=\"dataframe\">\n",
       "  <thead>\n",
       "    <tr style=\"text-align: right;\">\n",
       "      <th></th>\n",
       "      <th>timestamp</th>\n",
       "      <th>duration</th>\n",
       "      <th>time</th>\n",
       "      <th>viewName</th>\n",
       "      <th>Table_1</th>\n",
       "      <th>Table_2</th>\n",
       "      <th>Table_3</th>\n",
       "      <th>Table_4</th>\n",
       "      <th>is_cold_start</th>\n",
       "    </tr>\n",
       "  </thead>\n",
       "  <tbody>\n",
       "    <tr>\n",
       "      <th>1</th>\n",
       "      <td>2621.028</td>\n",
       "      <td>102.572</td>\n",
       "      <td>11/15/2019 9:51</td>\n",
       "      <td>Procedure_0</td>\n",
       "      <td>47.0</td>\n",
       "      <td>476.0</td>\n",
       "      <td>199.0</td>\n",
       "      <td>56.0</td>\n",
       "      <td>True</td>\n",
       "    </tr>\n",
       "    <tr>\n",
       "      <th>3</th>\n",
       "      <td>2700.351</td>\n",
       "      <td>79.245</td>\n",
       "      <td>11/15/2019 9:51</td>\n",
       "      <td>Procedure_1</td>\n",
       "      <td>47.0</td>\n",
       "      <td>476.0</td>\n",
       "      <td>199.0</td>\n",
       "      <td>56.0</td>\n",
       "      <td>True</td>\n",
       "    </tr>\n",
       "    <tr>\n",
       "      <th>5</th>\n",
       "      <td>2701.448</td>\n",
       "      <td>1.073</td>\n",
       "      <td>11/15/2019 9:51</td>\n",
       "      <td>Procedure_2</td>\n",
       "      <td>47.0</td>\n",
       "      <td>476.0</td>\n",
       "      <td>199.0</td>\n",
       "      <td>56.0</td>\n",
       "      <td>True</td>\n",
       "    </tr>\n",
       "    <tr>\n",
       "      <th>7</th>\n",
       "      <td>6288.764</td>\n",
       "      <td>3587.28</td>\n",
       "      <td>11/15/2019 9:51</td>\n",
       "      <td>Procedure_3</td>\n",
       "      <td>47.0</td>\n",
       "      <td>476.0</td>\n",
       "      <td>199.0</td>\n",
       "      <td>56.0</td>\n",
       "      <td>True</td>\n",
       "    </tr>\n",
       "    <tr>\n",
       "      <th>9</th>\n",
       "      <td>6386.315</td>\n",
       "      <td>97.403</td>\n",
       "      <td>11/15/2019 9:51</td>\n",
       "      <td>Procedure_4</td>\n",
       "      <td>47.0</td>\n",
       "      <td>476.0</td>\n",
       "      <td>199.0</td>\n",
       "      <td>56.0</td>\n",
       "      <td>False</td>\n",
       "    </tr>\n",
       "  </tbody>\n",
       "</table>\n",
       "</div>"
      ],
      "text/plain": [
       "   timestamp duration             time     viewName  Table_1  Table_2  \\\n",
       "1   2621.028  102.572  11/15/2019 9:51  Procedure_0     47.0    476.0   \n",
       "3   2700.351   79.245  11/15/2019 9:51  Procedure_1     47.0    476.0   \n",
       "5   2701.448    1.073  11/15/2019 9:51  Procedure_2     47.0    476.0   \n",
       "7   6288.764  3587.28  11/15/2019 9:51  Procedure_3     47.0    476.0   \n",
       "9   6386.315   97.403  11/15/2019 9:51  Procedure_4     47.0    476.0   \n",
       "\n",
       "   Table_3  Table_4  is_cold_start  \n",
       "1    199.0     56.0           True  \n",
       "3    199.0     56.0           True  \n",
       "5    199.0     56.0           True  \n",
       "7    199.0     56.0           True  \n",
       "9    199.0     56.0          False  "
      ]
     },
     "execution_count": 46,
     "metadata": {},
     "output_type": "execute_result"
    }
   ],
   "source": [
    "rawData = rawData.applymap(lambda x: x.replace(',','') if type(x) is str else x)\n",
    "rawData['is_cold_start'] = rawData['usn'].apply(lambda x: True if int(x) == 0 else False)\n",
    "rawData.drop(['usn'], axis=1, inplace=True)\n",
    "rawData.rename(columns={'Time MSec': 'timestamp', 'DURATION_MSEC': 'duration', 'timestamp':'time'}, inplace=True)\n",
    "rawData.head()"
   ]
  },
  {
   "cell_type": "markdown",
   "metadata": {},
   "source": [
    "## Studing data"
   ]
  },
  {
   "cell_type": "code",
   "execution_count": null,
   "metadata": {},
   "outputs": [],
   "source": []
  }
 ],
 "metadata": {
  "kernelspec": {
   "display_name": "Python",
   "language": "python",
   "name": "conda-env-python-py"
  },
  "language_info": {
   "codemirror_mode": {
    "name": "ipython",
    "version": 3
   },
   "file_extension": ".py",
   "mimetype": "text/x-python",
   "name": "python",
   "nbconvert_exporter": "python",
   "pygments_lexer": "ipython3",
   "version": "3.6.11"
  }
 },
 "nbformat": 4,
 "nbformat_minor": 4
}
